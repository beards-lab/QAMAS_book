{
 "cells": [
  {
   "cell_type": "markdown",
   "metadata": {},
   "source": [
    "# Introduction\n",
    "\n",
    "Acquired in the initiating event in the origin of eukaryotes, mitochondria are a defining feature of eukaryotic organisms {cite}`Friedman2014`. They serve as a central hub for eukaryotic energy metabolism, oxidizing carbohydrates, fats, and ketones, producing the reducing equivalents to drive the proton pumps of the respiratory complexes, and synthesizing the majority of adenosine triphosphate (ATP) needed to drive essential cell functions in high metabolic demand tissues (e.g., heart, brain, kidney). Since oxygen (O$_2$) is the final electron acceptor of the respiratory chain, mitochondrial respiration is the primary reason why vertebrate animals need a heart and vascular system to deliver oxygen to within diffusional distances of nearly every cell in the body. In other words, mitochondria are, in large part, the reason why the mammalian heart must beat continuously throughout the life of the organism. Mitochondria are also the source of the ATP hydrolysis potential that drives the mechanical pumping of the heart. Thus, at a basic level, mitochondria are both the ends and the means of cardiovascular physiology.\n",
    "\n",
    "In oxidizing primary substrates and synthesizing ATP, mitochondria transduce free energy through a multi-step process: (i) reduced cofactors nicotinamide adenine dinucleotide (NADH) and flavin adenine dinucleotide (FADH$_2$) are synthesized via the oxidation of fuels such as pyruvate and fatty acids; (ii) oxidation of NADH and FADH$_2$ drives the proton pumps of the respiratory chain, generating an electrostatic potential across the inner mitochondrial membrane (IMM); and (iii) that electrostatic potential, in turn, drives the phosphorylation of adenosine diphosphate (ADP) to ATP and the electrogenic exchange of a mitochondrial matrix ATP$^{4-}$ for a cytosolic ADP$^{3-}$. Thus, substrate oxidation drives the transduction of free energy of chemical reactions to free energy in an electrochemical transport gradient, and the electrochemical gradient is transduced back to chemical reaction free energy in the form of the ATP hydrolysis potential. The idea that chemical synthesis of ATP is thermodynamically coupled to the movement of ions across the electrochemical gradient of the mitochondrial membrane was introduced by Peter Mitchell, for which he was awarded the Nobel Prize in 1978 {cite}`Mitchell1961`.  \n",
    "\n",
    "We aim to develop a computational framework to help understand how these electrochemical processes operate. Kinetic models of mitochondrial ATP synthesis date back to Chance and Williams {cite}`Chance1955`, who observed a Michaelis-Menten type dependence of ATP synthesis on ADP concentration, yielding a phenomenological approach that is able to effectively describe mitochondrial ATP synthesis in human skeletal muscle in vivo {cite}`Chance1985`. While our approach is to analyze the component processes of oxidative phosphorylation with more mechanistic and thermodynamic fidelity, ultimately our models are in agreement with the overall dependence of ATP synthesis on the concentration of the products of ATP hydrolysis, namely ADP and inorganic phosphate (Pi). Ultimately, we follow the approach of Chance et al. {cite}`Chance1985` of first using in vitro data to identify a mitochondrial model, and then using the identified model to predict and analyze in vivo energetics."
   ]
  },
  {
   "cell_type": "code",
   "execution_count": null,
   "metadata": {},
   "outputs": [],
   "source": []
  }
 ],
 "metadata": {
  "kernelspec": {
   "display_name": "Python 3",
   "language": "python",
   "name": "python3"
  },
  "language_info": {
   "codemirror_mode": {
    "name": "ipython",
    "version": 3
   },
   "file_extension": ".py",
   "mimetype": "text/x-python",
   "name": "python",
   "nbconvert_exporter": "python",
   "pygments_lexer": "ipython3",
   "version": "3.9.5"
  }
 },
 "nbformat": 4,
 "nbformat_minor": 4
}