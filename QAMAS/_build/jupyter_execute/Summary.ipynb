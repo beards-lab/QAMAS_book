{
 "cells": [
  {
   "cell_type": "markdown",
   "metadata": {},
   "source": [
    "# Summary and conclusions \n",
    "\n",
    "The collection of calculations and simulations presented here represents a framework for analyzing and simulating mitochondrial function using basic thermodynamic and kinetic principles. This framework largely uses simple mass-action representations of kinetic processes, rather than models accounting for detailed catalytic mechanisms. It is perhaps remarkable that this simple approach is able effectively capture the systems-level function of ATP synthesis and respiratory control both in vitro and in vivo. Since these models and simulations are grounded in a rigorous treatment of the thermodynamics, we conclude that--with respect to the phenomena addressed in the simulations presented here--the thermodynamics of many of the underlying chemical processes is more important than the kinetics. However, in contrast to that general conclusion, the adenine nucleotide translocase, in particular, is represented with a model to account for the kinetics of its catalytic mechanism. Since the adenine nucleotide translocase catalyzes the final step in oxidative ATP synthesis, its kinetic mechanism is predicted to have the most direct influence of all the steps in governing cellular energetics and respiratory control in vivo. Moreover, the conclusion, for example, that the kinetics of complex I is effectively represented by the simple mass-action model of Equation {eq}`J_C1`, is dependent on context. While the model works for the purposes used here, it does not provide insights into phenomena that depend on a more detailed representation of a catalytic mechanism, as may be investigated using more complex models {cite}`Bazil2016`.\n",
    "\n",
    "By embedding all of the computer codes for the calculations and simulations that we have presented, our intention is to facilitate an easy adoption and modification of the concepts developed here. The codes for these simulations are in Python in this Jupyter book, as well as in MATLAB and Tellurium {cite}`Randall2021_code`. Armed with these concepts and codes, it is hoped that readers will reuse, repurpose, update, modify, test, and extend these models. For example, this model can be used to investigate the effects of acidosis/alkalosis on mitochondrial function indirectly by the adjusting cytosolic pH. \n",
    "\n",
    "This model may also be used to probe and simulate the mechanisms of respiratory control. Chance and Williams proposed in the 1950's that respiratory control in vivo is achieved by the dependence of oxidative phosphorylation on concentration of ADP {cite}`Chance1955`. This idea has proved extremely powerful and largely correct, particularly for skeletal muscle. In vitro experiments on purified mitochondria {cite}`Vinnakota2016_2`{cite}`Vinnakota2011`{cite}`Vinnakota2016` and model-based analysis of myocardial respiratory control in vivo {cite}`Wu2007`{cite}`Wu2008`{cite}`Wu2009` support the related hypothesis that in the myocardium Pi is the important feedback controller in respiratory control. According to this hypothesis, a key difference between skeletal muscle and the myocardium is that in skeletal muscle $[\\text{ADP}]$ tends to vary over a range comparable to the apparent Michaelis constant of ADP for oxidative ATP synthesis (approximately $30 \\ \\mu\\text{M}$), whereas Pi is several fold higher than its apparent Michaelis constant (approximately $1 \\ \\text{mM}$) {cite}`Wu2007_2`. In the myocardium, the situation is reversed, with Pi varying around its apparent Michaelis constant and ADP several fold higher than its apparent Michaelis constant. This key difference may be explored in the models developed here by varying the sizes of the conserved cytoplasmic metabolite pools. \n",
    "\n",
    "Finally, we hope that users and developers of these concepts will adopt publication vehicles such as this one, for sharing data, codes, and associated calculations with the community. "
   ]
  },
  {
   "cell_type": "code",
   "execution_count": null,
   "metadata": {},
   "outputs": [],
   "source": []
  }
 ],
 "metadata": {
  "kernelspec": {
   "display_name": "Python 3",
   "language": "python",
   "name": "python3"
  },
  "language_info": {
   "codemirror_mode": {
    "name": "ipython",
    "version": 3
   },
   "file_extension": ".py",
   "mimetype": "text/x-python",
   "name": "python",
   "nbconvert_exporter": "python",
   "pygments_lexer": "ipython3",
   "version": "3.7.6"
  }
 },
 "nbformat": 4,
 "nbformat_minor": 4
}