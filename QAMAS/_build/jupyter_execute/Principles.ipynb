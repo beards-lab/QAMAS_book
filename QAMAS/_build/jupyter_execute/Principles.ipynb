{
 "cells": [
  {
   "cell_type": "markdown",
   "metadata": {},
   "source": [
    "# Basic chemical, electrical, and thermodynamic principles\n",
    "\n",
    "To develop a quantitative understanding of how these processes work, we start with a set of definitions of the some quantities and concepts with which we are concerned. Specifically, this section reviews basic biochemical, thermodynamic, and related concepts that are particularly relevant to the quantitative analysis of mitochondrial ATP synthesis.  \n",
    "\n",
    "```{figure} Figure1.png \n",
    "------\n",
    "name: mitofig\n",
    "------\n",
    "Diagram of a mitochondrion with the cytosol, intermembrane space (IMS), and matrix indicated. *Inset from left to right:* Protein channels and complexes associated with oxidative phosphorylation in the cristae of the mitochondrion. Complex I (C1) catalyzes the oxidation of NADH$^{2-}$ to NAD$^{-}$ and reduction of ubiquinone (Q) to QH$_2$. Complex II (C2) catalyzes the oxidation of FADH$_2$ to FAD coupled to the reduction of Q. Complex III (C3) catalyzes the oxidation of QH$_2$ coupled to the reduction of cytochrome c (Cyt c). Complex IV (C4) catalyzes the oxidation of Cyt c coupled to the reduction of oxygen to water. These redox transfers drive pumping of H$^+$ ions out of the matrix, establishing the proton motive force across the inner mitochondrial membrane (IMM) that drives ATP synthesis at complex V, or the F$_0$F$_1$-ATPase (F$_0$F$_1$). The adenine nucleotide translocase (ANT) exchanges matrix ATP for IMS ADP. The inorganic phosphate cotransporter (PiC) brings protons and Pi from the IMS to the matrix. Lastly, there is a passive H$^{+}$ leak across the IMM. (Figure created with Biorender.com.)\n",
    "```"
   ]
  },
  {
   "cell_type": "markdown",
   "metadata": {},
   "source": [
    "## Mitochondrial anatomy\n",
    "\n",
    "The mitochondrion is a membrane-bound, rod-shaped organelle that is responsible for generating most of the chemical energy needed to power the cell's biochemical reactions by respiration {cite}`Nicholls2013`. Mitochondria are comprised of an outer and inner membrane that are separated by the intermembrane space (IMS) ({numref}`mitofig`). The outer mitochondrial membrane is freely permeable to small molecules and ions. The IMM folds inward to make cristae that extend into the matrix. Transmembrane channels called porins and the respiratory complexes involved in oxidative phosphorylation and ATP synthesis allow for more selective IMM permeability. The IMM encloses the mitochondrial matrix, which contains mitochondrial deoxyribonucleic acid (DNA), the majority of mitochondrial proteins, soluble metabolic intermediates including ATP, ADP, and Pi, and the enzymes catalyzing the tricarboxylic acid (TCA) cycle and $\\beta$-oxidation. "
   ]
  },
  {
   "cell_type": "markdown",
   "metadata": {},
   "source": [
    "## IMM capacitance\n",
    "\n",
    "The IMM acts as an electrical capacitor to store energy in an electrostatic potential difference between the milieu on each side. Electrical capacitance of a membrane ($C_m$) is the proportionality between the rate of charge transport across the membrane, i.e. current ($I$), to the rate of membrane potential ($\\Delta \\Psi$) change, that is, \n",
    "```{math}\n",
    "    C_m \\dfrac{ {\\rm d} {\\Delta\\Psi}}{{\\rm d} t} = I.\n",
    "```\n",
    "In the model and associated calculations presented below, we express fluxes in units of moles per unit time per unit volume of mitochondria. Thus, it is convenient to obtain an estimate of $C_m$ in units of mole per volt per volume of mitochondria. Mitochondria take on a roughly ellipsoid shape in vivo, and a more spherical morphometry in suspension of purified mitochondria {cite}`Picard2011`. To estimate the mitochondrial surface area-to-volume ratio, we take a representative mitochondrion as a sphere with radius $r = 1 \\ \\mu\\text{m}$ and obtain a surface area-to-volume ratio of $3 \\ \\mu\\text{m}^{-1}$.   Furthermore, we estimate that the IMM has ten-fold greater surface area than the outer membrane, yielding a surface area to volume ratio of $30 \\ \\mu\\text{m}^{-1}$ for the IMM. Since the capacitance density of biological membranes ranges from $0.5\\text{-}1.0 \\mu\\text{F cm}^{-2}$, or $0.5 \\text{-} 1.0 \\times \\ 10^{-8} \\ \\mu\\text{F} \\ \\mu\\text{m}^{-2}$ {cite}`Nicholls2013`, $C_m$ is approximately $30 \\times 10^{-8} \\ \\mu\\text{F} \\ \\mu\\text{m}^{-3} = 300 \\ \\text{F (L mito)}^{-1}$. To convert to the units used in the calculations below, we have \n",
    "```{math}\n",
    "  C_m = 300 \\ \\frac{\\rm F}{\\rm L \\ mito} = 300 \\ \\frac{\\rm C}{\\rm V \\cdot L \\, mito}\\cdot \n",
    "    \\frac{1}{F}\\, \\frac{\\rm mol}{\\rm C} =\n",
    "  3.1 \\times 10^{-3} \\, \n",
    "  \\frac{\\rm mol}{\\rm V \\cdot  L \\, mito}, \\,\n",
    "```\n",
    "where $F = 96,485 \\ \\text{C mol}^{-1}$ is Faraday's constant. "
   ]
  },
  {
   "cell_type": "markdown",
   "metadata": {},
   "source": [
    "## Gibbs free energy\n",
    "\n",
    "\n",
    "A *free energy* is a thermodynamic quantity that relates a change in the thermodynamic state of a system to an associated change in total entropy of the system plus its environment. Chemical reaction processes necessarily proceed in the direction associated with a reduction in free energy {cite}`Nicholls2013`. When free energy of a system is reduced, total entropy (of the universe) is increased. The form of free energy that is operative in constant-temperature and constant-pressure systems (most relevant for biochemistry) is the Gibbs free energy, or simply the *Gibbs energy*. \n",
    "\n",
    "\n",
    "For a chemical reaction of reactants $A_i$ and products $B_j$, \n",
    "```{math}\n",
    "    \\sum_{i = 1}^M m_i A_i \\rightleftharpoons \\sum_{j = 1}^N n_j B_j\n",
    "```\n",
    "where $M$ and $N$ are the total number of reactants and products, respectively, and $m_i$ and $n_j$ are the coefficients of reactant $i$ and product $j$, respectively, the Gibbs energy can be expressed as\n",
    "```{math}\n",
    ":label: Delta_rG     \n",
    "    \\Delta_r G = \\Delta_r G^\\circ + R{\\rm T} \\ln \\left( \\dfrac{ \\prod_{i = 1}^{N} [\\text{B}_j]^{n_i}}{ \\prod_{i = 1}^{M} [\\text{A}_i]^{m_i}} \\right), \n",
    "```   \n",
    "where $\\Delta_r G^\\circ$ is the reference Gibbs energy for the reaction (a constant at given constant chemical conditions of temperature, pressure, ionic conditions, etc.), $R = 8.314 \\ \\text{J mol}^{-1} \\ \\text{K}^{-1}$ is the gas constant, and $\\text{T} = 310.15 \\ \\text{K}$ is the temperature. The second term on the right hand side of Equation {eq}`Delta_rG` governs how changes in concentrations of species affects $\\Delta_r G$.   Applications of Equation {eq}`Delta_rG` to reactions in aqueous solution usually adopt the convention that all solute concentrations are measured relative to 1 Molar, ensuring that the argument of the logarithm is unitless regardless of the stoichiometry of the reaction.   \n",
    "\n",
    "A system is in chemical equilibrium when there is no thermodynamic driving force, that is, $\\Delta_r G = 0$. Thus, for this chemical reaction the reference Gibbs energy is related to the equilibrium constant as\n",
    "```{math} \n",
    "    K_{eq} = \\left( \\frac{\\prod_{i = 1}^{N} [\\text{B}_j]^{n_i}}{\\prod_{i = 1}^{M} [\\text{A}_i]^{m_i}} \\right)_{eq}\n",
    "           = \\exp\\left\\{ -\\frac{\\Delta_r G^\\circ}{R{\\rm T}} \\right\\} .\n",
    "```"
   ]
  },
  {
   "cell_type": "markdown",
   "metadata": {},
   "source": [
    "## Membrane potential and proton motive force\n",
    "\n",
    "Free energy associated with the oxidation of primary fuels is transduced to generate the chemical potential across the IMM known as the {\\em proton motive force}, which is used to synthesize ATP in the matrix and transport ATP out of the matrix to the cytosol {cite}`Nicholls2013`. The thermodynamic driving force for translocation of hydrogen ions ($\\text{H}^{+}$) across the IMM has two components: the difference in electrostatic potential across the membrane, $\\Delta\\Psi$ (V), and the difference in $\\text{H}^{+}$ concentration (or activity) between the media on either side of the membrane, $\\Delta\\text{pH}$, that is \n",
    "```{math}\n",
    ":label: DG_H\n",
    "    \\Delta G_{\\rm H} &=& -F\\Delta\\Psi + R{\\rm T}\\ln\\left( [{\\rm H}^+]_x/[{\\rm H}^+]_c \\right)  \\nonumber \\\\\n",
    "    &=&  -F\\Delta\\Psi - 2.3 R{\\rm T} \\, \\Delta{\\rm pH},\n",
    "```\n",
    "where the subscripts $x$ and $c$ indicate matrix and external (cytosol) spaces. $\\Delta\\Psi$ is defined as the cytosolic potential minus matrix potential, yielding a negative change in free energy for a positive potential. Membrane potential in respiring mitochondria is approximately $150 \\text{-} 200 \\ \\text{mV}$, yielding a contribution to $\\Delta G_{\\rm H}$ on the order of $15 \\text{-} 20 \\ \\text{kJ mol}^{-1}$ {cite}`Bazil2016`. Under in vitro conditions, $\\Delta\\text{pH}$ between the matrix and external buffer is on the order of $0.1 \\ \\text{pH}$ units {cite}`Bazil2016`. Thus, the contribution to proton motive force from a pH difference is less than $1 \\ \\text{kJ mol}^{-1}$ and substantially smaller than that from $\\Delta\\Psi$."
   ]
  },
  {
   "cell_type": "markdown",
   "metadata": {},
   "source": [
    "## Thermodynamics of ATP synthesis/hydrolysis\n",
    "\n",
    "Under physiological conditions the ATP hydrolysis reaction\n",
    "```{math} \n",
    ":label: ATP1\n",
    "\t\\text{ATP}^{4-} + \\text{H}_2\\text{O} \\rightleftharpoons \n",
    "\t    \\text{ADP}^{3-} + \\text{HPO}_4^{2-} + \\text{H}^{+} \n",
    "```\n",
    "is thermodynamically favored to proceed from the left-to-right direction. The Gibbs energy associated with turnover of this reaction is \n",
    "```{math}\n",
    ":label: DrG_ATP\n",
    "\t\\Delta_r G_{\\rm ATP} = \\Delta_r G^o_\\text{ATP} + R{\\rm T} \\ln \n",
    "\t\\left( \\frac{ [\\text{ADP}^{3-}] [\\text{HPO}_4^{2-}] [{\\rm H}^{+}] }\n",
    "\t{ [\\text{ATP}^{4-}] }\\right),\n",
    "```\n",
    "where the Gibbs energy for ATP hydrolysis under physiological conditions is approximately $\\Delta_r G^o_\\text{ATP} = 4.99 \\ \\text{kJ mol}^{-1}$ {cite}`Li2011`.   Using the convention that all concentrations are formally defined as measured relative to 1 Molar, the argument of the logarithm in Equation {eq}`DrG_ATP` is unitless.   "
   ]
  },
  {
   "cell_type": "markdown",
   "metadata": {},
   "source": [
    "### Calculation of the ATP hydrolysis potential\n",
    "\n",
    "Equation {eq}`DrG_ATP` expresses the Gibbs energy of chemical Equation {eq}`ATP1` in terms of its *chemical species*. In practice, biochemistry typically deals with biochemical *reactants*, which are comprised of sums of rapidly interconverting chemical species. We calculate the total ATP concentration, $[\\Sigma \\text{ATP}]$, in terms of its bound and unbound species, that is,\n",
    "```{math}  \n",
    ":label: sumATP\n",
    "\t[\\Sigma \\text{ATP}] &= [\\text{ATP}^{4-}] + [\\text{MgATP}^{2-}] + [\\text{HATP}^{3-}] + [\\text{KATP}^{3-}] \\nonumber\\\\\n",
    "\t&= [\\text{ATP}^{4-}] + \\frac{[\\text{Mg}^{2+}] [\\text{ATP}^{4-}]}{K_{\\text{MgATP}}} + \\frac{ [\\text{H}^{+}] [\\text{ATP}^{4-}]}{K_{\\text{HATP}}} + \\frac{ [\\text{K}^{+}] [\\text{ATP}^{4-}]}{K_{\\text{KATP}}} \\nonumber \\\\\n",
    "\t&= [\\text{ATP}^{4-}] \\left( 1 + \\frac{[\\text{Mg}^{2+}]}{K_{\\text{MgATP}}} + \\frac{ [\\text{H}^{+}]}{K_{\\text{HATP}}} + \\frac{ [\\text{K}^{+}]}{K_{\\text{KATP}}} \\right) \\nonumber \\\\\n",
    "\t&= [\\text{ATP}^{4-}] P_{\\text{ATP}},\n",
    "```\n",
    "where $P_{\\text{ATP}}$ is a *binding polynomial*. Here, we we account for only the single cation-bound species. (Free $\\text{H}^+$ in solution associates with water to form $\\text{H}_3\\text{O}^+$. Here we use [$\\text{H}^+$] to indicate hydrogen ion activity, which is equal to $10^{-\\text{pH}}$.)  {numref}`table-dissociationconstants` lists the dissociation constants used in this study from {cite}`Li2011`. Similarly, total ADP, [$\\Sigma \\text{ADP}$], and inorganic phosphate, [$\\Sigma \\text{Pi}$], concentrations are \n",
    "```{math} \n",
    ":label: sumADP\n",
    "    [\\Sigma {\\rm ADP} ] &= [{\\rm ADP}^{3-}]\\left( 1 + \\frac{[{\\rm Mg}^{2+}]}{K_{\\rm MgADP}} + \\frac{ [{\\rm H}^{+}]}{K_{\\rm HADP}} + \\frac{ [{\\rm K}^{+}]}{K_{\\rm KADP}} \\right) \\nonumber \\\\\n",
    "    &= [{\\rm ADP}^{3-}]P_{\\rm ADP} \n",
    "```\n",
    "and\n",
    "```{math}\n",
    ":label: sumPi\n",
    "    [\\Sigma {\\rm Pi} ] &= [{\\rm HPO}_4^{2-}] \\left( 1 + \\frac{[{\\rm Mg}^{2+}]}{K_{\\rm MgPi}} + \\frac{ [{\\rm H}^{+}]}{K_{\\rm HPi}} + \\frac{ [{\\rm K}^{+}]}{K_{\\rm KPi}} \\right) \\nonumber \\\\\n",
    "    &= [{\\rm HPO}_4^{2-}] P_{\\rm Pi},\n",
    "```\n",
    "for binding polynomials $P_{\\text{ADP}}$ and $P_{\\text{Pi}}$. \n",
    "\n",
    "Expressing the Gibbs energy of ATP hydrolysis in Equation {eq}`ATP1` in terms of biochemical reactant concentrations, we obtain\n",
    "```{math} \n",
    ":label: ATP2\n",
    "    \\Delta_r G_{\\rm ATP} &= \\Delta_r G^o_\\text{ATP} + R{\\rm T} \\ln \\left(\n",
    "    \\frac{[\\Sigma{\\rm ADP}][\\Sigma{\\rm Pi}]}\n",
    "    {[\\Sigma{\\rm ATP}]}\\cdot\\frac{[{\\rm H}^+]P_{\\rm ATP}}{P_{\\rm ADP}P_{\\rm Pi}}\n",
    "    \\right) \\nonumber \\\\ \n",
    "    &= \\Delta_r G^o_\\text{ATP}\n",
    "    + R{\\rm T} \\ln \\left(\\frac{[{\\rm H}^+]P_{\\rm ATP}}{P_{\\rm ADP}P_{\\rm Pi}} \\right)\n",
    "    + R{\\rm T} \\ln \\left(\\frac{[\\Sigma{\\rm ADP}][\\Sigma{\\rm Pi}]}\n",
    "    {[\\Sigma{\\rm ATP}]}\\right) \\nonumber \\\\ \n",
    "    &= \\Delta_r G'^o_\\text{ATP}\n",
    "    + R{\\rm T} \\ln \\left(\\frac{[\\Sigma{\\rm ADP}][\\Sigma{\\rm Pi}]}\n",
    "    {[\\Sigma{\\rm ATP}]}\\right)\n",
    "```\n",
    "where $\\Delta_r G'^o_\\text{ATP}$ is a transformed, or *apparent*, reference Gibbs energy for the reaction. "
   ]
  },
  {
   "cell_type": "markdown",
   "metadata": {},
   "source": [
    "```{list-table} Dissociation constants given as 10$^{-\\text{p}K_a}$.\n",
    ":header-rows: 2\n",
    ":name: table-dissociationconstants\n",
    "\n",
    "* - \n",
    "  - \n",
    "  - Ligand ($L$)\n",
    "  - \n",
    "* -\n",
    "  - Mg$^{2+}$ \n",
    "  - H$^{+}$ \n",
    "  -\tK$^{+}$\t\n",
    "* - $K_{L-\\text{ATP}}$ \n",
    "  - $10^{-3.88}$ \n",
    "  - $10^{-6.33}$ \n",
    "  - $10^{-1.02}$ \n",
    "* - $K_{L-\\text{ADP}}$ \n",
    "  - $10^{-3.00}$ \n",
    "  - $10^{-6.26}$ \n",
    "  - $10^{-0.89}$  \n",
    "* - $K_{L-\\text{Pi}}$ \n",
    "  - $10^{-1.66}$ \n",
    "  - $10^{-6.62}$ \n",
    "  - $10^{-0.42}$  \n",
    "```"
   ]
  },
  {
   "cell_type": "markdown",
   "metadata": {},
   "source": [
    "The following code computes the apparent Gibbs energy with $\\text{pH} = 7$, $[\\text{K}^{+}] = 150 \\ \\text{mM}$, and $[\\text{Mg}^{2+}] = 1 \\ \\text{mM}$. Biochemical reactant concentrations are set such that the total adenine nucleotide (TAN) pool inside the mitochondrion is $10 \\ \\text{mM}$, $[\\Sigma \\text{ATP}] = 0.5 \\ \\text{mM}$, $[\\Sigma \\text{ADP}] = 9.5 \\ \\text{mM}$, and $[\\Sigma \\text{Pi}] = 1 \\ \\text{mM}$. Here, we obtain a value of approximately $\\text{-}45 \\ \\text{kJ mol}^{-1}$.  "
   ]
  },
  {
   "cell_type": "code",
   "execution_count": 1,
   "metadata": {
    "scrolled": true
   },
   "outputs": [
    {
     "name": "stdout",
     "output_type": "stream",
     "text": [
      "Gibbs energy of ATP hydrolysis (kJ mol^(-1))\n",
      "-45.47130666167594\n"
     ]
    }
   ],
   "source": [
    "# Import numpy package for calculations \n",
    "import numpy as np\n",
    "\n",
    "# Dissociation constants\n",
    "K_MgATP = 10**(-3.88)\n",
    "K_MgADP = 10**(-3.00)\n",
    "K_MgPi  = 10**(-1.66)\n",
    "K_HATP  = 10**(-6.33)\n",
    "K_HADP  = 10**(-6.26)\n",
    "K_HPi   = 10**(-6.62)\n",
    "K_KATP  = 10**(-1.02)\n",
    "K_KADP  = 10**(-0.89)\n",
    "K_KPi   = 10**(-0.42)\n",
    "\n",
    "#  Gibbs energy under physiological conditions(J mol^(-1))\n",
    "DrGo_ATP = 4990\n",
    "\n",
    "# Thermochemical constants\n",
    "R = 8.314           # J (mol * K)**(-1)\n",
    "T = 310.15          # K\n",
    "F = 96485           # C mol**(-1)\n",
    "\n",
    "# Environment concentrations \n",
    "pH = 7\n",
    "H  = 10**(-pH)      # Molar \n",
    "K  = 150e-3         # Molar \n",
    "Mg = 1e-3           # Molar \n",
    "\n",
    "# Binding polynomials\n",
    "P_ATP = 1 + H/K_HATP + K/K_KATP + Mg/K_MgATP # equation 6\n",
    "P_ADP = 1 + H/K_HADP + K/K_KADP + Mg/K_MgADP # equation 7 \n",
    "P_Pi  = 1 + H/K_HPi  + K/K_KPi  + Mg/K_MgPi  # equation 8 \n",
    "\n",
    "# Total concentrations \n",
    "sumATP = 0.5e-3         # Molar\n",
    "sumADP = 9.5e-3         # Molar\n",
    "sumPi  = 1.0e-3         # Molar\n",
    "\n",
    "# Reaction:\n",
    "# ATP4− + H2O ⇌ ADP3− + HPO2−4 + H+\n",
    "\n",
    "# Use equation 8 to calcuate apparent reference Gibbs energy \n",
    "DrG_ATP_apparent = DrGo_ATP + R * T * np.log(H * P_ATP / (P_ADP * P_Pi))\n",
    "\n",
    "# Use equation 8 to calculate reaction Gibbs energy \n",
    "DrG_ATP = DrG_ATP_apparent + R * T * np.log((sumADP * sumPi / sumATP))\n",
    "\n",
    "print('Gibbs energy of ATP hydrolysis (kJ mol^(-1))')\n",
    "print(DrG_ATP / 1000) "
   ]
  },
  {
   "cell_type": "markdown",
   "metadata": {},
   "source": [
    "The reactant concentrations used in the above calculation represent reasonable values for concentrations in the mitochondrial matrix. In the cytosol, the ATP/ADP ratio is on the order of 100:1, yielding a $\\Delta_r G_\\text{ATP}$ of approximately $\\text{-}64 \\ \\text{kJ mol}^{-1}$. \n",
    "\n",
    "Note the large difference in magnitude of the estimated Gibbs energy of ATP hydrolysis inside (-$45 \\ \\text{kJ mol}^{-1}$) versus outside (-$64 \\ \\text{kJ mol}^{-1}$) of the mitochondrial matrix. Light will be shed on the mechanisms underlying this difference via the calculations and analyses presented below.   "
   ]
  },
  {
   "cell_type": "markdown",
   "metadata": {},
   "source": [
    "### ATP synthesis in the mitochondrial matrix\n",
    "\n",
    "The F$_0$F$_1$ ATP synthase catalyzes the synthesis of ATP from ADP and Pi by coupling to the translocation of  $n_{\\text{F}} = 8/3$ protons from the cytosol to the matrix via the combined reaction\n",
    "```{math} \n",
    ":label: ATP3\n",
    "    ({\\rm ADP}^{3-})_x + ({\\rm HPO}_4^{2-})_x + ({\\rm H}^+)_x + n_{\\text{F}} (\\text{H}^{+})_c \n",
    "\t\\rightleftharpoons \n",
    "\t({\\rm ATP})^{4-}_x + {\\rm H_2O} +  n_{\\text{F}} (\\text{H}^{+})_x \\, .\n",
    "``` \n",
    "Using the Gibbs energy of the reaction of Equation {eq}`ATP2` and the proton motive force in Equation {eq}`DG_H`, the overall Gibbs energy for the coupled process of ATP synthesis and proton transport via the F$_0$F$_1$ ATP synthase is \n",
    "```{math} \n",
    ":label: DG_F\n",
    "\t\\Delta G_{\\text{F}} &=& -\\Delta_r G_{\\rm ATP} + n_\\text{F} \\Delta G_{\\rm H} \\nonumber \\\\\n",
    "\t&=& -\\Delta_r G'^o_\\text{ATP} - R{\\rm T} \\ln \\left(\\frac{[\\Sigma{\\rm ADP}]_x[\\Sigma{\\rm Pi}]_x}\n",
    "    {[\\Sigma{\\rm ATP}]_x}\\right) - n_\\text{F} F \\Delta \\Psi + R{\\rm T} \\ln \\left( \n",
    "    \\frac{ [{\\rm H}^{+}]_x }{ [{\\rm H}^{+}]_c } \\right)^{n_{\\rm F}} . \n",
    "```\n",
    "Note that the negative before $\\Delta_r G_\\text{ATP}$ indicates that the reaction of Equation {eq}`ATP1` is reversed in Equation {eq}`ATP3`. The equilibrium concentration ratio occurs when $\\Delta G_{\\text{F}} = 0$. Solving for the second term in Equation {eq}`DG_F`, we calculate the apparent equilibrium constant for ATP synthesis as \n",
    "```{math} \n",
    ":label: Kapp_F\n",
    "\tK_{eq,\\text{F}}^\\prime = \n",
    "\t    \\left( \\frac{[\\Sigma{\\rm ATP}]_x}{[\\Sigma{\\rm ADP}]_x[\\Sigma{\\rm Pi}]_x} \\right)_{eq} = \\exp\\left\\{\\frac{ \\Delta_rG'^o_{\\rm ATP}  + n_{\\rm F} F \\Delta\\Psi}{R{\\rm T}}\\right\\}\n",
    "        \\left( \\frac{[{\\rm H^+}]_c}{[{\\rm H^+}]_x} \\right)^{n_{\\rm F}}. \n",
    "```"
   ]
  },
  {
   "cell_type": "markdown",
   "metadata": {},
   "source": [
    "(modelATPsynthesis)= \n",
    "### Mathematical modeling ATP synthesis\n",
    "\n",
    "A simple model of ATP synthesis kinetics can be constructed using the apparent equilibrium constant and mass-action kinetics in the form\n",
    "```{math}\n",
    ":label: J_F\n",
    "    J_{\\text{F}} = X_{\\text{F}} (K_{eq,\\text{F}}^\\prime [\\Sigma \\text{ADP}]_x [\\Sigma \\text{Pi}]_x - [\\Sigma \\text{ATP}]_x), \n",
    "``` \n",
    "where $X_{\\text{F}} = 1000 \\ \\text{mol s}^{-1} \\ \\text{(L mito)}^{-1}$ is a rate constant set to an arbitrarily high value that maintains the reaction in equilibrium in model simulations. To simulate ATP synthesis at a given membrane potential, matrix pH, cytosolic pH, and cation concentrations, we have\n",
    "```{math} \n",
    ":label: system-ATPase\n",
    "    \\left\\{       \n",
    "        \\renewcommand{\\arraystretch}{2}\n",
    "        \\begin{array}{rl}\n",
    "            \\dfrac{ {\\rm d} [\\Sigma \\text{ATP}]_x }{{\\rm d} t} &= J_\\text{F} / W_x  \\\\\n",
    "            \\dfrac{ {\\rm d} [\\Sigma \\text{ADP}]_x }{{\\rm d} t} &= -J_\\text{F} / W_x  \\\\ \n",
    "            \\dfrac{ {\\rm d} [\\Sigma \\text{Pi}]_x }{{\\rm d} t}  &= -J_\\text{F} / W_x, \n",
    "        \\end{array} \n",
    "        \\renewcommand{\\arraystretch}{1}\n",
    "    \\right. \n",
    "```\n",
    "where $W_x \\ \\text{((L matrix water) (L mito)}^{-1}$) is the fraction of water volume in the mitochondrial matrix to total volume of the mitochondrion. Dissociation constants are listed in {numref}`table-dissociationconstants` and all other parameters are listed in {numref}`table-biophysicalconstants`. "
   ]
  },
  {
   "cell_type": "markdown",
   "metadata": {},
   "source": [
    "```{list-table} Parameters for ATP synthesis in vitro.\n",
    ":header-rows: 1\n",
    ":name: table-biophysicalconstants\n",
    "\n",
    "* - Symbol \n",
    "  - Units \n",
    "  - Description \n",
    "  - Value \n",
    "  - Source\n",
    "* - F$_0$F$_1$ ATP synthase constants \n",
    "  -\n",
    "  -\n",
    "  -\n",
    "  -\n",
    "* - $n_{\\text{F}}$ \n",
    "  - \n",
    "  - Protons translocated  \n",
    "  - $8/3 $\n",
    "  - {cite}`Nicholls2013` \n",
    "* - $X_\\text{F}$ \n",
    "  - mol s$^{-1}$ (L mito)$^{-1}$ \n",
    "  - Rate constant \n",
    "  - $1000 $\n",
    "  - \n",
    "* - $\\Delta_r G_\\text{ATP}^\\circ$ \n",
    "  - kJ mol$^{-1}$ \n",
    "  - Reference Gibbs energy  \n",
    "  - $4.99 $\n",
    "  - {cite}`Li2011` \n",
    "* - Biophysical constants \n",
    "  -\n",
    "  -\n",
    "  -\n",
    "  -\n",
    "* - $R$ \n",
    "  - J mol$^{-1}$ K$^{-1}$ \n",
    "  - Gas constant \n",
    "  - $8.314 $\n",
    "  - \n",
    "* - $T$ \n",
    "  - K \n",
    "  - Temperature \n",
    "  - $310.15 $\n",
    "  - \n",
    "* - $F$ \n",
    "  - C mol$^{-1}$ \n",
    "  - Faraday's constant \n",
    "  - $96485$ \n",
    "  - \n",
    "* - $C_m$ \n",
    "  - mol V$^{-1}$ (L mito)$^{-1}$ \n",
    "  - IMM capacitance \n",
    "  - $3.1\\text{e-}3$ \n",
    "  - {cite}`Beard2005` \n",
    "* - Volume ratios \n",
    "  -\n",
    "  -\n",
    "  -\n",
    "  -\n",
    "* - $V_c$ \n",
    "  - (L cyto) (L cell)$^{-1}$ \n",
    "  - Cyto to cell ratio \n",
    "  - $0.6601$\n",
    "  - {cite}`Bazil2016`\n",
    "* - $V_m$ \n",
    "  - (L mito) (L cell)$^{-1}$ \n",
    "  - Mito to cell ratio \n",
    "  - $0.2882$ \n",
    "  - {cite}`Bazil2016`\n",
    "* - $V_{m2c}$ \n",
    "  - (L mito) (L cyto)$^{-1}$ \n",
    "  - Mito to cyto ratio \n",
    "  - $V_m / V_c$ \n",
    "  - \n",
    "* - $W_c$ \n",
    "  - (L cyto water) (L cyto)$^{-1}$ \n",
    "  - Cyto water space ratio \n",
    "  - $0.8425$ \n",
    "  - {cite}`Bazil2016` \n",
    "* - $W_m$ \n",
    "  - (L mito water) (L mito)$^{-1}$ \n",
    "  - Mito water space ratio \n",
    "  - $0.7238 $\n",
    "  - {cite}`Bazil2016` \n",
    "* -\t$W_x$ \n",
    "  - (L matrix water) (L mito)$^{-1}$ \n",
    "  - Mito matrix water space ratio \n",
    "  - $0.9$ $W_m$\n",
    "  - {cite}`Bazil2016` \n",
    "* - $W_i$ \n",
    "  - (L IM water) (L mito)$^{-1}$ \n",
    "  - IMS water space ratio \n",
    "  - $0.1$ $W_m$ \n",
    "  - {cite}`Bazil2016` \n",
    "```"
   ]
  },
  {
   "cell_type": "markdown",
   "metadata": {},
   "source": [
    "The following code simulates steady state ATP, ADP, and Pi concentrations for $\\Delta \\Psi = 175 \\ \\text{mV}$. Here, a pH gradient is fixed across the IMM such that the pH in the matrix is slightly more basic than the cytosol, $\\text{pH}_x = 7.4$ and $\\text{pH}_c = 7.2$. All other conditions remain unchanged. "
   ]
  },
  {
   "cell_type": "code",
   "execution_count": 2,
   "metadata": {},
   "outputs": [
    {
     "name": "stdout",
     "output_type": "stream",
     "text": [
      "Requirement already satisfied: scipy in /Users/Ben/opt/anaconda3/lib/python3.7/site-packages (1.4.1)\r\n"
     ]
    },
    {
     "name": "stdout",
     "output_type": "stream",
     "text": [
      "Requirement already satisfied: numpy>=1.13.3 in /Users/Ben/opt/anaconda3/lib/python3.7/site-packages (from scipy) (1.18.1)\r\n"
     ]
    },
    {
     "data": {
      "image/png": "[encoded data removed]",
      "text/plain": [
       "<Figure size 432x288 with 1 Axes>"
      ]
     },
     "metadata": {
      "filenames": {
       "image/png": "/Users/Ben/Documents/GitHub/QAMAS/QAMAS_book/QAMAS/_build/jupyter_execute/Principles_15_2.png"
      },
      "needs_background": "light"
     },
     "output_type": "display_data"
    }
   ],
   "source": [
    "import matplotlib.pyplot as plt\n",
    "import numpy as np\n",
    "\n",
    "!pip install scipy\n",
    "from scipy.integrate import solve_ivp\n",
    "\n",
    "# Define system of ordinary differential equations from equation (13)\n",
    "def dXdt(t, X, DPsi, pH_c):\n",
    "    # Unpack X state variable\n",
    "    sumATP, sumADP, sumPi = X\n",
    "    \n",
    "    # Biophysical constants \n",
    "    R   = 8.314          # J (mol * K)**(-1)\n",
    "    T   = 310.15         # K\n",
    "    F   = 96485          # C mol**(-1)\n",
    "    \n",
    "    # F0F1 constants \n",
    "    n_F    = 8/3\n",
    "    X_F    = 1000        # mol (s * L mito)**(-1)\n",
    "    DrGo_F = 4990        # (J mol**(-1))\n",
    "    \n",
    "    # Dissociation constants\n",
    "    K_MgATP = 10**(-3.88)\n",
    "    K_MgADP = 10**(-3.00)\n",
    "    K_MgPi  = 10**(-1.66)\n",
    "    K_HATP  = 10**(-6.33)\n",
    "    K_HADP  = 10**(-6.26)\n",
    "    K_HPi   = 10**(-6.62)\n",
    "    K_KATP  = 10**(-1.02)\n",
    "    K_KADP  = 10**(-0.89)\n",
    "    K_KPi   = 10**(-0.42)\n",
    "\n",
    "    # Environment concentrations \n",
    "    pH_x = 7.4          # pH in matrix\n",
    "    H_x  = 10**(-pH_x)  # M \n",
    "    H_c  = 10**(-pH_c)  # M \n",
    "    K_x  = 150e-3       # M \n",
    "    Mg_x = 1e-3         # M \n",
    "\n",
    "    # Volume ratios\n",
    "    W_m = 0.7238         # (L mito water) (L mito)**(-1)\n",
    "    W_x = 0.9 * W_m      # (L matrix water) (L mito)**(-1)\n",
    "    \n",
    "    # Binding polynomials\n",
    "    P_ATP = 1 + H_x/K_HATP + K_x/K_KATP + Mg_x/K_MgATP # equation 5\n",
    "    P_ADP = 1 + H_x/K_HADP + K_x/K_KADP + Mg_x/K_MgADP # equation 6 \n",
    "    P_Pi  = 1 + H_x/K_HPi  + K_x/K_KPi  + Mg_x/K_MgPi  # equation 7 \n",
    "    \n",
    "    # Gibbs energy (equation 9)\n",
    "    DrGapp_F = DrGo_F + R * T * np.log(H_x * P_ATP / (P_ADP * P_Pi))\n",
    "    \n",
    "    # Apparent equilibrium constant \n",
    "    Kapp_F = np.exp((DrGapp_F + n_F * F * DPsi)/ (R * T)) * (H_c / H_x) ** n_F\n",
    "    \n",
    "    # Flux (mol (s * L mito)**(-1))  \n",
    "    J_F = X_F * (Kapp_F * sumADP * sumPi - sumATP)\n",
    "       \n",
    "    ###### Differential equations (equation 13) ######\n",
    "    dATP = J_F / W_x\n",
    "    dADP = -J_F / W_x\n",
    "    dPi  = -J_F / W_x\n",
    "    \n",
    "    dX = (dATP, dADP, dPi)\n",
    "    return dX\n",
    "\n",
    "\n",
    "# Simple steady state simulation at 175 mV membrane potential \n",
    "\n",
    "# Initial conditions (M)\n",
    "sumATP_0 = 0.5e-3\n",
    "sumADP_0 = 9.5e-3\n",
    "sumPi_0  = 1e-3\n",
    "\n",
    "X_0 = np.array([sumATP_0, sumADP_0, sumPi_0])\n",
    "\n",
    "# Inputs  \n",
    "DPsi = 175e-3 # Constant membrane potential (V)\n",
    "pH_c = 7.2    # IMS/buffer pH \n",
    "\n",
    "solutions = solve_ivp(dXdt, [0, 1], X_0, method = 'Radau', args = (DPsi,pH_c))\n",
    "t = solutions.t\n",
    "results = solutions.y \n",
    "results = results * 1000\n",
    "\n",
    "# Plot figure \n",
    "plt.figure()\n",
    "plt.plot(t, results[0,:], label = '[$\\Sigma$ATP]$_x$')\n",
    "plt.plot(t, results[1,:], label = '[$\\Sigma$ADP]$_x$')\n",
    "plt.plot(t, results[2,:], label = '[$\\Sigma$Pi]$_x$')\n",
    "plt.legend()\n",
    "plt.xlabel('Time (s)')\n",
    "plt.ylabel('Concentration (mM)')\n",
    "plt.ylim(0, 10)\n",
    "plt.show()"
   ]
  },
  {
   "cell_type": "markdown",
   "metadata": {},
   "source": [
    "\n",
    "**Figure 2:** Steady state solution from Equation {eq}`system-ATPase` for $\\Delta \\Psi = 175$ mV, $\\text{pH}_x = 7.4$, and $\\text{pH}_c = 7.2$.\n"
   ]
  },
  {
   "cell_type": "markdown",
   "metadata": {},
   "source": [
    "The above simulation shows that under the clamped pH and $\\Delta\\Psi$ conditions simulated here, the model quickly approaches an equilibrium steady state. (Even though all reaction fluxes go to zero in the final steady state, the ATP hydrolysis potential attains a finite nonzero value because of the energy supplied by the clamped proton motive force.) Most of the adenine nucleotide remains in the form of ADP and the   final   ATP/ADP ratio in the matrix is approximately $1$:$20$, with the inorganic phosphate concentration of approximately $1 \\ \\text{mM}$.\n",
    "\n",
    "To explore how the equilibrium changes with membrane potential, the following code computes the predicted equilibrium steady-state over a ranges of $\\Delta\\Psi$ from $100$ to $250 \\ \\text{mV}$. "
   ]
  },
  {
   "cell_type": "code",
   "execution_count": 3,
   "metadata": {},
   "outputs": [
    {
     "data": {
      "image/png": "[encoded data removed]",
      "text/plain": [
       "<Figure size 432x288 with 1 Axes>"
      ]
     },
     "metadata": {
      "filenames": {
       "image/png": "/Users/Ben/Documents/GitHub/QAMAS/QAMAS_book/QAMAS/_build/jupyter_execute/Principles_18_0.png"
      },
      "needs_background": "light"
     },
     "output_type": "display_data"
    }
   ],
   "source": [
    "### Simulate over a range of membrane potential from 100 mV to 250 mV ###\n",
    "\n",
    "# Define array to iterate over\n",
    "membrane_potential = np.linspace(100,250)    # mV\n",
    "\n",
    "# Constant external pH\n",
    "pH_c = 7.2 # IMS/buffer pH\n",
    "\n",
    "# Define arrays to store steady state results \n",
    "ATP_steady_DPsi = np.zeros(len(membrane_potential))\n",
    "ADP_steady_DPsi = np.zeros(len(membrane_potential))\n",
    "Pi_steady_DPsi  = np.zeros(len(membrane_potential))\n",
    "\n",
    "# Iterate through range of membrane potentials \n",
    "for i in range(len(membrane_potential)):\n",
    "    DPsi = membrane_potential[i] / 1000      # convert to V\n",
    "    temp_results = solve_ivp(dXdt, [0, 5], X_0, method = 'Radau', args = (DPsi, pH_c,)).y*1000  # Concentration in mM\n",
    "    ATP_steady_DPsi[i] = temp_results[0,-1] \n",
    "    ADP_steady_DPsi[i] = temp_results[1,-1] \n",
    "    Pi_steady_DPsi[i] = temp_results[2,-1] \n",
    "    \n",
    "# Concentration vs DPsi\n",
    "plt.figure()\n",
    "plt.plot(membrane_potential, ATP_steady_DPsi, label = '[$\\Sigma$ATP]$_x$')\n",
    "plt.plot(membrane_potential, ADP_steady_DPsi, label = '[$\\Sigma$ADP]$_x$')\n",
    "plt.plot(membrane_potential, Pi_steady_DPsi, label = '[$\\Sigma$Pi]$_x$')\n",
    "plt.legend()\n",
    "plt.xlabel('Membrane potential (mV)')\n",
    "plt.ylabel('Concentration (mM)')\n",
    "plt.xlim([100, 250])\n",
    "plt.show()    \n",
    "    "
   ]
  },
  {
   "cell_type": "markdown",
   "metadata": {},
   "source": [
    "\n",
    "**Figure 3:** Simulation of concentration versus $\\Delta \\Psi$ for Equation {eq}`system-ATPase` for $\\Delta \\Psi$ from $100$ to $250$ mV."
   ]
  },
  {
   "cell_type": "markdown",
   "metadata": {},
   "source": [
    "The above simulations show that under physiological levels of $\\Delta$pH, matrix ATP concentrations become essentially zero for values of the membrane potential less than approximately $150 \\ \\text{mV}$. At higher levels of $\\Delta\\Psi$, all of the available phosphate is used to phosphorylate ADP to ATP. Since the initial $[\\text{Pi}]$ and $[\\text{ATP}]$ are $1 \\ \\text{mM}$ and $0.5 \\ \\text{mM}$, respectively, the maximum ATP obtained at the maximal $\\Delta\\Psi$ is $1.5 \\ \\text{mM}$."
   ]
  },
  {
   "cell_type": "code",
   "execution_count": null,
   "metadata": {},
   "outputs": [],
   "source": []
  }
 ],
 "metadata": {
  "celltoolbar": "Edit Metadata",
  "kernelspec": {
   "display_name": "Python 3",
   "language": "python",
   "name": "python3"
  },
  "language_info": {
   "codemirror_mode": {
    "name": "ipython",
    "version": 3
   },
   "file_extension": ".py",
   "mimetype": "text/x-python",
   "name": "python",
   "nbconvert_exporter": "python",
   "pygments_lexer": "ipython3",
   "version": "3.7.6"
  }
 },
 "nbformat": 4,
 "nbformat_minor": 4
}