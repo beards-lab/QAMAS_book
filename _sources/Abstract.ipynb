{
 "cells": [
  {
   "attachments": {},
   "cell_type": "markdown",
   "metadata": {},
   "source": [
    "# Title Page\n",
    "\n",
    "## Authors\n",
    "\n",
    "E. Benjamin Randall$^{1}$, Marcus Hock$^{2}$, Rachel Lopez$^{1}$, Bahador Marzban$^{1}$, Collin Marshall$^{1}$, Daniel A. Beard$^{1*}$\n",
    "\n",
    "$^{1}$ *Department of Molecular and Integrative Physiology, University of Michigan, Ann Arbor, MI*\n",
    "\n",
    "$^{2}$ *Department of Bioengineering, University of California at San Diego, San Diego, CA*\n",
    "\n",
    "*Corresponding author\n",
    "\n",
    "*Email addresses*: ebrandal@umich.edu (E.B. Randall), m1hock@eng.ucsd.edu (M. Hock), ralopez@umich.edu (R. Lopez), bmarzban@umich.edu (B. Marzban), colmar@umich.edu (C. Marshall), beardda@umich.edu (D.A. Beard). \n",
    "\n",
    "\n",
    "## Abstract \n",
    "\n",
    "We present a computational framework for analyzing and simulating mitochondrial ATP synthesis using basic thermodynamic and kinetic principles. The framework invokes detailed descriptions of the thermodynamic driving forces associated with the processes of the electron transport chain, mitochondrial ATP synthetase, and mitochondrial phosphate and adenine nucleotide transporters. Assembling models of these discrete processes into an integrated model of mitochondrial ATP synthesis, we illustrate how to analyze and simulate in vitro respirometry experiments and how models identified from in vitro experimental data effectively explain cardiac respiratory control in vivo. Computer codes for these analyses are embedded as Python scripts in a Jupyter Book to facilitate easy adoption and modification of the concepts developed here. All source codes are available at https://ebenjaminrandall.github.io/QAMAS_book/. \n",
    "\n",
    "## Highlights \n",
    "\n",
    "-   This study provides a framework to analyze and simulate mitochondrial function. \n",
    "-\tThe model captures the dynamics of ATP synthesis and respiratory control.  \n",
    "-\tWe conducted in silico experiments on the model both in vitro and in vivo. \n",
    "-\tAdenine nucleotide translocase greatly influences mitochondrial function. \n",
    "-\tWe aim to disseminate this model and code with easy adoption and modification. \n",
    "\n",
    "## Funding \n",
    "\n",
    "This work supported by NIH grant HL144657.\n"
   ]
  },
  {
   "cell_type": "code",
   "execution_count": null,
   "metadata": {},
   "outputs": [],
   "source": []
  }
 ],
 "metadata": {
  "kernelspec": {
   "display_name": "Python 3",
   "language": "python",
   "name": "python3"
  },
  "language_info": {
   "codemirror_mode": {
    "name": "ipython",
    "version": 3
   },
   "file_extension": ".py",
   "mimetype": "text/x-python",
   "name": "python",
   "nbconvert_exporter": "python",
   "pygments_lexer": "ipython3",
   "version": "3.7.6"
  }
 },
 "nbformat": 4,
 "nbformat_minor": 4
}
