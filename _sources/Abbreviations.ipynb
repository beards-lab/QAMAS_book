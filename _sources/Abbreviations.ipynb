{
 "cells": [
  {
   "cell_type": "markdown",
   "metadata": {},
   "source": [
    "# Abbreviations \n",
    "\n",
    "| Description | Abbreviation |\n",
    "| :------ | :------: | \n",
    "| Adenosine diphosphate | ADP |\n",
    "| Adenosine triphosphate | ATP |\n",
    "| Deoxyribonucleic acid  | DNA |\n",
    "| Flavin adenine dinucleotide (oxidized) | FAD |\n",
    "| Flavin adenine dinucleotide (reduced) | FADH$_2$ | \n",
    "| Inner mitochondrial membrane | IMM  |\n",
    "| Inorganic phosphate | Pi  |\n",
    "| Intermembrane space | IMS  |\n",
    "| Nicotinamide adenine dinucleotide (oxidized) | NAD$^{+}$ |  \n",
    "| Nicotinamide adenine dinucleotide (reduced) | NADH |\n",
    "| Oxygen consumption rate | OCR | \n",
    "| Total adenine nucleotide | TAN |\n",
    "| Total enchangeable phosphate | TEP | \n",
    "| Tricarboxylic acid | TCA |"
   ]
  },
  {
   "cell_type": "code",
   "execution_count": null,
   "metadata": {},
   "outputs": [],
   "source": []
  }
 ],
 "metadata": {
  "kernelspec": {
   "display_name": "Python 3",
   "language": "python",
   "name": "python3"
  },
  "language_info": {
   "codemirror_mode": {
    "name": "ipython",
    "version": 3
   },
   "file_extension": ".py",
   "mimetype": "text/x-python",
   "name": "python",
   "nbconvert_exporter": "python",
   "pygments_lexer": "ipython3",
   "version": "3.7.6"
  }
 },
 "nbformat": 4,
 "nbformat_minor": 4
}
